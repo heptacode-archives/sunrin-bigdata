{
  "nbformat": 4,
  "nbformat_minor": 0,
  "metadata": {
    "colab": {
      "name": "04_5_데이터_전처리.ipynb",
      "provenance": [],
      "collapsed_sections": [],
      "include_colab_link": true
    },
    "kernelspec": {
      "name": "python3",
      "display_name": "Python 3"
    }
  },
  "cells": [
    {
      "cell_type": "markdown",
      "metadata": {
        "id": "view-in-github",
        "colab_type": "text"
      },
      "source": [
        "<a href=\"https://colab.research.google.com/github/heptacode/SunrinBigDatas/blob/master/04_5_%EB%8D%B0%EC%9D%B4%ED%84%B0_%EC%A0%84%EC%B2%98%EB%A6%AC.ipynb\" target=\"_parent\"><img src=\"https://colab.research.google.com/assets/colab-badge.svg\" alt=\"Open In Colab\"/></a>"
      ]
    },
    {
      "cell_type": "markdown",
      "metadata": {
        "id": "T7iiDN_dZ4mV",
        "colab_type": "text"
      },
      "source": [
        "### Label Encoding"
      ]
    },
    {
      "cell_type": "code",
      "metadata": {
        "id": "KyWJF7DKIzLM",
        "colab_type": "code",
        "colab": {}
      },
      "source": [
        "#24\n",
        "from  import "
      ],
      "execution_count": 0,
      "outputs": []
    },
    {
      "cell_type": "code",
      "metadata": {
        "id": "NogtlgpGYcQM",
        "colab_type": "code",
        "colab": {}
      },
      "source": [
        "items=['TV','냉장고','전자렌지','컴퓨터','선풍기','선풍기','믹서','믹서']"
      ],
      "execution_count": 0,
      "outputs": []
    },
    {
      "cell_type": "code",
      "metadata": {
        "id": "FnLn_G-7YrTL",
        "colab_type": "code",
        "colab": {}
      },
      "source": [
        "# LabelEncoder를 객체로 생성\n",
        "encoder = \n",
        "\n",
        "# fit( ) 과 transform( ) 으로 label 인코딩 수행. \n",
        "encoder.\n",
        "labels = \n",
        "\n",
        "print('인코딩 변환값:',labels)"
      ],
      "execution_count": 0,
      "outputs": []
    },
    {
      "cell_type": "code",
      "metadata": {
        "id": "LXhHpDtzYtO_",
        "colab_type": "code",
        "colab": {}
      },
      "source": [
        "#25\n",
        "print('인코딩 클래스:',encoder. )"
      ],
      "execution_count": 0,
      "outputs": []
    },
    {
      "cell_type": "code",
      "metadata": {
        "id": "BIktJLl1Y7Cj",
        "colab_type": "code",
        "colab": {}
      },
      "source": [
        "#26\n",
        "print('디코딩 원본 값:',encoder. )"
      ],
      "execution_count": 0,
      "outputs": []
    },
    {
      "cell_type": "markdown",
      "metadata": {
        "id": "tubkdL7vZ9gG",
        "colab_type": "text"
      },
      "source": [
        "### One-Hot Encoding"
      ]
    },
    {
      "cell_type": "code",
      "metadata": {
        "id": "5BayOMC3Y-VU",
        "colab_type": "code",
        "colab": {}
      },
      "source": [
        "#27\n",
        "from  import \n",
        "import numpy as np\n",
        "\n",
        "items=['TV','냉장고','전자렌지','컴퓨터','선풍기','선풍기','믹서','믹서']"
      ],
      "execution_count": 0,
      "outputs": []
    },
    {
      "cell_type": "code",
      "metadata": {
        "id": "kTZQhOPBaEbl",
        "colab_type": "code",
        "colab": {}
      },
      "source": [
        "# 먼저 숫자값으로 변환을 위해 LabelEncoder로 변환합니다. \n",
        "encoder = \n",
        "encoder.\n",
        "labels = "
      ],
      "execution_count": 0,
      "outputs": []
    },
    {
      "cell_type": "code",
      "metadata": {
        "id": "7mef0dI3acbc",
        "colab_type": "code",
        "colab": {}
      },
      "source": [
        "# 2차원 데이터로 변환합니다. \n",
        "labels = "
      ],
      "execution_count": 0,
      "outputs": []
    },
    {
      "cell_type": "code",
      "metadata": {
        "id": "hGIvBVuOaebM",
        "colab_type": "code",
        "colab": {}
      },
      "source": [
        "# 원-핫 인코딩을 적용합니다. \n",
        "oh_encoder = \n",
        "oh_encoder.\n",
        "oh_labels = "
      ],
      "execution_count": 0,
      "outputs": []
    },
    {
      "cell_type": "code",
      "metadata": {
        "id": "yQGQRTeyag08",
        "colab_type": "code",
        "colab": {}
      },
      "source": [
        "print('원-핫 인코딩 데이터')\n",
        "print(oh_labels )\n",
        "print('원-핫 인코딩 데이터 차원')\n",
        "print(oh_labels )"
      ],
      "execution_count": 0,
      "outputs": []
    },
    {
      "cell_type": "markdown",
      "metadata": {
        "id": "1YEhpXj9bKP3",
        "colab_type": "text"
      },
      "source": [
        "### get_dummies()"
      ]
    },
    {
      "cell_type": "code",
      "metadata": {
        "id": "DoTsfOnDai-S",
        "colab_type": "code",
        "colab": {}
      },
      "source": [
        "#28\n",
        "import pandas as pd\n",
        "\n",
        "df = pd.DataFrame({'item':['TV','냉장고','전자렌지','컴퓨터', '선풍기','선풍기','믹서','믹서'] })\n"
      ],
      "execution_count": 0,
      "outputs": []
    }
  ]
}