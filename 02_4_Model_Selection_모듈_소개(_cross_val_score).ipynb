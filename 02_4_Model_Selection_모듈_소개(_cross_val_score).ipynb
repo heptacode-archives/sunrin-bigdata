{
  "nbformat": 4,
  "nbformat_minor": 0,
  "metadata": {
    "kernelspec": {
      "display_name": "Python 3",
      "language": "python",
      "name": "python3"
    },
    "language_info": {
      "codemirror_mode": {
        "name": "ipython",
        "version": 3
      },
      "file_extension": ".py",
      "mimetype": "text/x-python",
      "name": "python",
      "nbconvert_exporter": "python",
      "pygments_lexer": "ipython3",
      "version": "3.7.4"
    },
    "colab": {
      "name": "02_4. Model Selection 모듈 소개(_cross_val_score).ipynb",
      "provenance": [],
      "include_colab_link": true
    }
  },
  "cells": [
    {
      "cell_type": "markdown",
      "metadata": {
        "id": "view-in-github",
        "colab_type": "text"
      },
      "source": [
        "<a href=\"https://colab.research.google.com/github/heptacode/SunrinBigDatas/blob/master/02_4_Model_Selection_%EB%AA%A8%EB%93%88_%EC%86%8C%EA%B0%9C(_cross_val_score).ipynb\" target=\"_parent\"><img src=\"https://colab.research.google.com/assets/colab-badge.svg\" alt=\"Open In Colab\"/></a>"
      ]
    },
    {
      "cell_type": "markdown",
      "metadata": {
        "id": "aLugVnWPtDU_",
        "colab_type": "text"
      },
      "source": [
        "## 4. Model Selection 모듈"
      ]
    },
    {
      "cell_type": "markdown",
      "metadata": {
        "id": "Yk9g05uctDVA",
        "colab_type": "text"
      },
      "source": [
        "### KFold"
      ]
    },
    {
      "cell_type": "code",
      "metadata": {
        "id": "t3csMFh8tDVB",
        "colab_type": "code",
        "colab": {}
      },
      "source": [
        "#13-1\n",
        "import numpy as np\n",
        "from sklearn.datasets import load_iris\n",
        "from sklearn.tree import DecisionTreeClassifier\n",
        "from sklearn.metrics import accuracy_score\n",
        "from sklearn.model_selection import KFold"
      ],
      "execution_count": 0,
      "outputs": []
    },
    {
      "cell_type": "code",
      "metadata": {
        "id": "6_UkWAqbtDVE",
        "colab_type": "code",
        "colab": {}
      },
      "source": [
        "#13-2\n",
        "iris = \n",
        "features = \n",
        "label =  \n",
        "dt_clf =  "
      ],
      "execution_count": 0,
      "outputs": []
    },
    {
      "cell_type": "code",
      "metadata": {
        "id": "U_z_dYuntDVH",
        "colab_type": "code",
        "colab": {}
      },
      "source": [
        "#13-3\n",
        "# 5개의 폴드 세트로 분리하는 KFold 객체\n",
        "kfold =  \n",
        "\n",
        "# 폴드 세트별 정확도를 담을 리스트 객체\n",
        "cv_accuracy = []\n",
        "\n",
        "print('붓꽃 데이터 세트 크기:',features.shape[0])"
      ],
      "execution_count": 0,
      "outputs": []
    },
    {
      "cell_type": "code",
      "metadata": {
        "id": "Bg-16PXEtDVK",
        "colab_type": "code",
        "colab": {}
      },
      "source": [
        "kfold.split(features)"
      ],
      "execution_count": 0,
      "outputs": []
    },
    {
      "cell_type": "code",
      "metadata": {
        "id": "uLkLFVSatDVM",
        "colab_type": "code",
        "colab": {}
      },
      "source": [
        "#14\n",
        "n_iter = 0\n",
        "\n",
        "# KFold객체의 split( ) 호출하면 폴드 별 학습용, 검증용 테스트의 로우 인덱스를 array로 반환  \n",
        "for train_index, test_index in  \n",
        "    \n",
        "    # kfold.split( )으로 반환된 인덱스를 이용하여 학습용, 검증용 테스트 데이터 추출\n",
        "    X_train, X_test =  \n",
        "    y_train, y_test =  \n",
        "   \n",
        "    #학습 \n",
        "     \n",
        "    #예측\n",
        "     \n",
        "    \n",
        "    n_iter += 1\n",
        "    \n",
        "    # 반복 시 마다 정확도 측정 \n",
        "    accuracy = np.round( , 4)\n",
        "    train_size = X_train.shape[0]\n",
        "    test_size = X_test.shape[0]\n",
        "    print('\\n#{0} 교차 검증 정확도 :{1}, 학습 데이터 크기: {2}, 검증 데이터 크기: {3}'.format(n_iter, accuracy, train_size, test_size))\n",
        "    print('#{0} 검증 세트 인덱스:{1}'.format(n_iter,test_index))\n",
        "    cv_accuracy.append(accuracy)\n",
        "    \n",
        "# 개별 iteration별 정확도를 합하여 평균 정확도 계산 \n",
        "print('\\n## 평균 검증 정확도:',  )\n"
      ],
      "execution_count": 0,
      "outputs": []
    },
    {
      "cell_type": "markdown",
      "metadata": {
        "id": "saOGRlSltDVO",
        "colab_type": "text"
      },
      "source": [
        "### stratified KFold"
      ]
    },
    {
      "cell_type": "code",
      "metadata": {
        "id": "3OM2hYn3tDVO",
        "colab_type": "code",
        "colab": {}
      },
      "source": [
        "#15\n",
        "import pandas as pd\n",
        "\n",
        "iris = load_iris()\n",
        "\n",
        "iris_df = pd.DataFrame(data=iris.data, columns=iris.feature_names)\n",
        "iris_df['label']=iris.target\n",
        "iris_df['label']. "
      ],
      "execution_count": 0,
      "outputs": []
    },
    {
      "cell_type": "code",
      "metadata": {
        "id": "Eei6yeXPtDVR",
        "colab_type": "code",
        "colab": {}
      },
      "source": [
        "#16\n",
        "n_iter =0\n",
        "for train_index, test_index  in  \n",
        "    n_iter += 1\n",
        "    \n",
        "    label_train= iris_df['label'].iloc[train_index]\n",
        "    label_test= iris_df['label'].iloc[test_index]\n",
        "    \n",
        "    print('\\n## 교차 검증: {0}'.format(n_iter))\n",
        "    print('학습레이블 데이터 분포:\\n', )\n",
        "    print('검증레이블 데이터 분포:\\n', )"
      ],
      "execution_count": 0,
      "outputs": []
    },
    {
      "cell_type": "code",
      "metadata": {
        "id": "3JfBbQkFtDVT",
        "colab_type": "code",
        "colab": {}
      },
      "source": [
        "#17\n",
        "from   import  \n",
        "\n",
        "skf =  \n",
        "n_iter=0\n",
        "\n",
        "for train_index, test_index in skf.split( , ):\n",
        "    n_iter += 1\n",
        "    label_train= iris_df['label'].iloc[train_index]\n",
        "    label_test= iris_df['label'].iloc[test_index]\n",
        "    print('\\n## 교차 검증: {0}'.format(n_iter))\n",
        "    print('학습레이블 데이터 분포:\\n',label_train.value_counts())\n",
        "    print('검증레이블 데이터 분포:\\n',label_test.value_counts())"
      ],
      "execution_count": 0,
      "outputs": []
    },
    {
      "cell_type": "code",
      "metadata": {
        "id": "QXREut0KtDVV",
        "colab_type": "code",
        "colab": {}
      },
      "source": [
        "#18\n",
        "dt_clf = DecisionTreeClassifier(random_state=156)\n",
        "\n",
        "skfold =  \n",
        "n_iter=0\n",
        "cv_accuracy=[]\n",
        "\n",
        "# StratifiedKFold의 split( ) 호출시 반드시 레이블 데이터 셋도 추가 입력 필요  \n",
        "for train_index, test_index  in  \n",
        "\n",
        "    # split( )으로 반환된 인덱스를 이용하여 학습용, 검증용 테스트 데이터 추출\n",
        "    X_train, X_test = features[train_index], features[test_index]\n",
        "    y_train, y_test = label[train_index], label[test_index]\n",
        "\n",
        "    #학습 및 예측 \n",
        "    dt_clf.fit(X_train , y_train)    \n",
        "    pred = dt_clf.predict(X_test)\n",
        "\n",
        "    # 반복 시 마다 정확도 측정 \n",
        "    n_iter += 1\n",
        "    accuracy = np.round(accuracy_score(y_test,pred), 4)\n",
        "    train_size = X_train.shape[0]\n",
        "    test_size = X_test.shape[0]\n",
        "    print('\\n#{0} 교차 검증 정확도 :{1}, 학습 데이터 크기: {2}, 검증 데이터 크기: {3}'\n",
        "          .format(n_iter, accuracy, train_size, test_size))\n",
        "    print('#{0} 검증 세트 인덱스:{1}'.format(n_iter,test_index))\n",
        "    cv_accuracy.append(accuracy)\n",
        "    \n",
        "# 교차 검증별 정확도 및 평균 정확도 계산 \n",
        "print('\\n## 교차 검증별 정확도:', np.round(cv_accuracy, 4))\n",
        "print('## 평균 검증 정확도:', np.mean(cv_accuracy))\n"
      ],
      "execution_count": 0,
      "outputs": []
    },
    {
      "cell_type": "code",
      "metadata": {
        "id": "cL1jn3nStDVW",
        "colab_type": "code",
        "colab": {}
      },
      "source": [
        "#19\n",
        "from sklearn.tree import DecisionTreeClassifier\n",
        "from sklearn  import  \n",
        "from sklearn.datasets import load_iris\n",
        "\n",
        "iris_data = load_iris()\n",
        "dt_clf = DecisionTreeClassifier(random_state=156)\n",
        "\n",
        "data = iris_data.data\n",
        "label = iris_data.target\n",
        "\n",
        "# 성능 지표는 정확도(accuracy) , 교차 검증 세트는 3개 \n",
        "scores = cross_val_score(  ,   ,   ,   ,  )\n",
        "print('교차 검증별 정확도:',np.round(scores, 4))\n",
        "print('평균 검증 정확도:', np.round(np.mean(scores), 4))\n"
      ],
      "execution_count": 0,
      "outputs": []
    },
    {
      "cell_type": "code",
      "metadata": {
        "id": "DC0Z3ReutDVZ",
        "colab_type": "code",
        "colab": {}
      },
      "source": [
        ""
      ],
      "execution_count": 0,
      "outputs": []
    }
  ]
}